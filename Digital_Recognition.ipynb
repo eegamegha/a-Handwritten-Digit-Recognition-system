{
  "nbformat": 4,
  "nbformat_minor": 0,
  "metadata": {
    "colab": {
      "provenance": [],
      "gpuType": "T4"
    },
    "kernelspec": {
      "name": "python3",
      "display_name": "Python 3"
    },
    "language_info": {
      "name": "python"
    },
    "accelerator": "GPU"
  },
  "cells": [
    {
      "cell_type": "markdown",
      "source": [
        "#**Digital Recognition**\n"
      ],
      "metadata": {
        "id": "C_uOd9G6_EpI"
      }
    },
    {
      "cell_type": "code",
      "source": [
        "import numpy as np\n",
        "import matplotlib.pyplot as plt\n",
        "from tensorflow.keras.datasets import mnist\n",
        "from tensorflow.keras.models import Sequential\n",
        "from tensorflow.keras.layers import Dense, Flatten\n",
        "from tensorflow.keras.utils import to_categorical"
      ],
      "metadata": {
        "id": "JVKEqSJu_MoL"
      },
      "execution_count": 1,
      "outputs": []
    },
    {
      "cell_type": "markdown",
      "source": [
        "loading - \"MNIST Data Set\" Contating Training samples = 60,000 Testing samples = 10,000 Tensorflow already contain MNIST data set which can be loaded using Keras\n",
        "\n"
      ],
      "metadata": {
        "id": "n2lL9b-M_jf6"
      }
    },
    {
      "cell_type": "markdown",
      "source": [
        "- this is basically handwritten characters based on 28x28 sized images of 0 to 9"
      ],
      "metadata": {
        "id": "Sar3Zj9w_Y47"
      }
    },
    {
      "cell_type": "code",
      "source": [
        "# Load MNIST dataset\n",
        "(X_train, y_train), (X_test, y_test) = mnist.load_data()\n",
        "# Normalizing pixel values to be between 0 and 1\n",
        "X_train, X_test = X_train / 255.0, X_test / 255.0"
      ],
      "metadata": {
        "id": "zTEG3zgG_Oqr",
        "colab": {
          "base_uri": "https://localhost:8080/"
        },
        "outputId": "8f6f888d-850f-45a5-9fac-24e6dab928fd"
      },
      "execution_count": 2,
      "outputs": [
        {
          "output_type": "stream",
          "name": "stdout",
          "text": [
            "Downloading data from https://storage.googleapis.com/tensorflow/tf-keras-datasets/mnist.npz\n",
            "11490434/11490434 [==============================] - 2s 0us/step\n"
          ]
        }
      ]
    },
    {
      "cell_type": "markdown",
      "source": [
        "\n",
        "- Flattening the images"
      ],
      "metadata": {
        "id": "xSQ0R8tvBQFL"
      }
    },
    {
      "cell_type": "code",
      "source": [
        "# Flattening the images\n",
        "X_train_flat = X_train.reshape((X_train.shape[0], -1))\n",
        "X_test_flat = X_test.reshape((X_test.shape[0], -1))"
      ],
      "metadata": {
        "id": "nlyT0T7ZABch"
      },
      "execution_count": 3,
      "outputs": []
    },
    {
      "cell_type": "code",
      "source": [
        "X_train.shape"
      ],
      "metadata": {
        "colab": {
          "base_uri": "https://localhost:8080/"
        },
        "id": "QtfnUqxEBT4K",
        "outputId": "49db3330-b151-45bb-c5e0-7c55d7060b5a"
      },
      "execution_count": 5,
      "outputs": [
        {
          "output_type": "execute_result",
          "data": {
            "text/plain": [
              "(60000, 28, 28)"
            ]
          },
          "metadata": {},
          "execution_count": 5
        }
      ]
    },
    {
      "cell_type": "code",
      "source": [],
      "metadata": {
        "id": "yENuC6PmfmZ-"
      },
      "execution_count": null,
      "outputs": []
    },
    {
      "cell_type": "code",
      "source": [
        "# One-hot encode the labels\n",
        "y_train_cat = to_categorical(y_train, 10)\n",
        "y_test_cat = to_categorical(y_test, 10)"
      ],
      "metadata": {
        "id": "dSvzPB_3BojK"
      },
      "execution_count": 6,
      "outputs": []
    },
    {
      "cell_type": "markdown",
      "source": [
        "Build Neural Network Model"
      ],
      "metadata": {
        "id": "uwfuEtiDCcig"
      }
    },
    {
      "cell_type": "code",
      "source": [
        "model = Sequential()\n",
        "model.add(Dense(128, activation='relu', input_shape=(784,)))\n",
        "model.add(Dense(10, activation='softmax'))"
      ],
      "metadata": {
        "id": "vapAqPKSBy2y"
      },
      "execution_count": 7,
      "outputs": []
    },
    {
      "cell_type": "markdown",
      "source": [
        "Output layer with 10 units for 0-9 digits"
      ],
      "metadata": {
        "id": "O0vRQ77nC68a"
      }
    },
    {
      "cell_type": "code",
      "source": [
        "model.compile(optimizer='adam', loss='categorical_crossentropy',metrics=['accuracy'])"
      ],
      "metadata": {
        "id": "ml5s47W3CpvR"
      },
      "execution_count": 8,
      "outputs": []
    },
    {
      "cell_type": "code",
      "source": [
        "model.summary()"
      ],
      "metadata": {
        "colab": {
          "base_uri": "https://localhost:8080/"
        },
        "id": "cQEjyeCuDqke",
        "outputId": "ab19fcc4-606c-4aef-ccd3-f5f613991615"
      },
      "execution_count": 9,
      "outputs": [
        {
          "output_type": "stream",
          "name": "stdout",
          "text": [
            "Model: \"sequential\"\n",
            "_________________________________________________________________\n",
            " Layer (type)                Output Shape              Param #   \n",
            "=================================================================\n",
            " dense (Dense)               (None, 128)               100480    \n",
            "                                                                 \n",
            " dense_1 (Dense)             (None, 10)                1290      \n",
            "                                                                 \n",
            "=================================================================\n",
            "Total params: 101770 (397.54 KB)\n",
            "Trainable params: 101770 (397.54 KB)\n",
            "Non-trainable params: 0 (0.00 Byte)\n",
            "_________________________________________________________________\n"
          ]
        }
      ]
    },
    {
      "cell_type": "code",
      "source": [
        "# Train the Model\n",
        "model.fit(X_train_flat, y_train_cat, epochs=10, batch_size=32,validation_split=0.2)"
      ],
      "metadata": {
        "colab": {
          "base_uri": "https://localhost:8080/"
        },
        "id": "GCuHx_nDD6i4",
        "outputId": "4ab56bc5-b705-4a74-d820-fc31595e17ce"
      },
      "execution_count": 10,
      "outputs": [
        {
          "output_type": "stream",
          "name": "stdout",
          "text": [
            "Epoch 1/10\n",
            "1500/1500 [==============================] - 7s 3ms/step - loss: 0.2847 - accuracy: 0.9192 - val_loss: 0.1462 - val_accuracy: 0.9575\n",
            "Epoch 2/10\n",
            "1500/1500 [==============================] - 6s 4ms/step - loss: 0.1272 - accuracy: 0.9631 - val_loss: 0.1092 - val_accuracy: 0.9677\n",
            "Epoch 3/10\n",
            "1500/1500 [==============================] - 5s 3ms/step - loss: 0.0870 - accuracy: 0.9738 - val_loss: 0.1042 - val_accuracy: 0.9683\n",
            "Epoch 4/10\n",
            "1500/1500 [==============================] - 5s 3ms/step - loss: 0.0645 - accuracy: 0.9811 - val_loss: 0.0879 - val_accuracy: 0.9740\n",
            "Epoch 5/10\n",
            "1500/1500 [==============================] - 5s 3ms/step - loss: 0.0490 - accuracy: 0.9853 - val_loss: 0.1037 - val_accuracy: 0.9692\n",
            "Epoch 6/10\n",
            "1500/1500 [==============================] - 5s 3ms/step - loss: 0.0401 - accuracy: 0.9878 - val_loss: 0.0926 - val_accuracy: 0.9741\n",
            "Epoch 7/10\n",
            "1500/1500 [==============================] - 6s 4ms/step - loss: 0.0310 - accuracy: 0.9907 - val_loss: 0.0872 - val_accuracy: 0.9760\n",
            "Epoch 8/10\n",
            "1500/1500 [==============================] - 5s 3ms/step - loss: 0.0257 - accuracy: 0.9918 - val_loss: 0.0979 - val_accuracy: 0.9742\n",
            "Epoch 9/10\n",
            "1500/1500 [==============================] - 5s 3ms/step - loss: 0.0198 - accuracy: 0.9946 - val_loss: 0.1017 - val_accuracy: 0.9743\n",
            "Epoch 10/10\n",
            "1500/1500 [==============================] - 6s 4ms/step - loss: 0.0168 - accuracy: 0.9951 - val_loss: 0.0991 - val_accuracy: 0.9753\n"
          ]
        },
        {
          "output_type": "execute_result",
          "data": {
            "text/plain": [
              "<keras.src.callbacks.History at 0x7a4090b49f00>"
            ]
          },
          "metadata": {},
          "execution_count": 10
        }
      ]
    },
    {
      "cell_type": "markdown",
      "source": [
        "Replace 'index' with the index of the image you want to predict\n"
      ],
      "metadata": {
        "id": "evgi3ht5ELit"
      }
    },
    {
      "cell_type": "code",
      "source": [
        "index = 1\n",
        "prediction = model.predict(X_test_flat[index].reshape(1, -1))\n",
        "predicted_label = np.argmax(prediction)"
      ],
      "metadata": {
        "colab": {
          "base_uri": "https://localhost:8080/"
        },
        "id": "9E27aCK0EXi9",
        "outputId": "a00cca8c-f173-4b19-9382-6c88a9d1c2eb"
      },
      "execution_count": 11,
      "outputs": [
        {
          "output_type": "stream",
          "name": "stdout",
          "text": [
            "1/1 [==============================] - 0s 99ms/step\n"
          ]
        }
      ]
    },
    {
      "cell_type": "code",
      "source": [
        "plt.imshow(X_test[index], cmap='gray')\n",
        "plt.title(f'Predicted Label: {predicted_label}')\n",
        "plt.show()"
      ],
      "metadata": {
        "id": "mC4GfZ11Ebyy",
        "colab": {
          "base_uri": "https://localhost:8080/",
          "height": 452
        },
        "outputId": "39c26a3f-c985-42c1-a135-94e56f9a43f9"
      },
      "execution_count": 13,
      "outputs": [
        {
          "output_type": "display_data",
          "data": {
            "text/plain": [
              "<Figure size 640x480 with 1 Axes>"
            ],
            "image/png": "[encoded data removed]"
          },
          "metadata": {}
        }
      ]
    },
    {
      "cell_type": "code",
      "source": [
        "index = 6\n",
        "prediction = model.predict(X_test_flat[index].reshape(1, -1))\n",
        "predicted_label = np.argmax(prediction)"
      ],
      "metadata": {
        "id": "Gf_uEvv0M82r",
        "colab": {
          "base_uri": "https://localhost:8080/"
        },
        "outputId": "74728c13-7a12-44ef-8ded-0f84d6700ed7"
      },
      "execution_count": 14,
      "outputs": [
        {
          "output_type": "stream",
          "name": "stdout",
          "text": [
            "1/1 [==============================] - 0s 18ms/step\n"
          ]
        }
      ]
    },
    {
      "cell_type": "code",
      "source": [
        "plt.imshow(X_test[index], cmap='gray')\n",
        "plt.title(f'Predicted Label: {predicted_label}')\n",
        "plt.show()"
      ],
      "metadata": {
        "colab": {
          "base_uri": "https://localhost:8080/",
          "height": 452
        },
        "id": "STUemri2lhXX",
        "outputId": "cfd6977a-1533-4a2d-9b44-095916c04116"
      },
      "execution_count": 15,
      "outputs": [
        {
          "output_type": "display_data",
          "data": {
            "text/plain": [
              "<Figure size 640x480 with 1 Axes>"
            ],
            "image/png": "[encoded data removed]"
          },
          "metadata": {}
        }
      ]
    },
    {
      "cell_type": "code",
      "source": [],
      "metadata": {
        "id": "N__QLSp3lkVy"
      },
      "execution_count": null,
      "outputs": []
    }
  ]
}